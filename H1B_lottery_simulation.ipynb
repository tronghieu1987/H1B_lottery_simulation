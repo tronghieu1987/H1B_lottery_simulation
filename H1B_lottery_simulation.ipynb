{
 "cells": [
  {
   "cell_type": "code",
   "execution_count": 1,
   "metadata": {},
   "outputs": [],
   "source": [
    "import pandas as pd\n",
    "import numpy as np\n",
    "import matplotlib.pyplot as plt"
   ]
  },
  {
   "cell_type": "code",
   "execution_count": 2,
   "metadata": {},
   "outputs": [],
   "source": [
    "app_total = 190000\n",
    "cap_regular = 65000\n",
    "cap_master = 20000"
   ]
  },
  {
   "cell_type": "markdown",
   "metadata": {},
   "source": [
    "### 2 functions to calculate chance and # selected under new/old policy"
   ]
  },
  {
   "cell_type": "code",
   "execution_count": 3,
   "metadata": {},
   "outputs": [],
   "source": [
    "def old_policy(app_master):\n",
    "#     1st draw for master, always 20K selected\n",
    "    selected_draw_1 = 20000\n",
    "    go_to_draw_2 = max(app_master - selected_draw_1, 0)\n",
    "    remain_total = app_total - selected_draw_1\n",
    "    selected_draw_2 = go_to_draw_2/remain_total * cap_regular\n",
    "#     all master selected and chance\n",
    "    selected_master = selected_draw_1 + selected_draw_2\n",
    "    chance = min(selected_master / app_master, 1)\n",
    "    return chance, selected_master    "
   ]
  },
  {
   "cell_type": "code",
   "execution_count": 4,
   "metadata": {},
   "outputs": [],
   "source": [
    "def new_policy(app_master):\n",
    "#     1st draw for all\n",
    "    selected_draw_1 = app_master / app_total * cap_regular\n",
    "    go_to_draw_2 = app_master - selected_draw_1\n",
    "#     2nd draw for master, always 20K selected\n",
    "    selected_draw_2 = min(20000, go_to_draw_2)\n",
    "#     all master selected and chance\n",
    "    selected_master = selected_draw_1 + selected_draw_2\n",
    "    chance = min(selected_master / app_master, 1)\n",
    "    return chance, selected_master    "
   ]
  },
  {
   "cell_type": "markdown",
   "metadata": {},
   "source": [
    "### Loop thru possible values to get the result before plotting"
   ]
  },
  {
   "cell_type": "code",
   "execution_count": 5,
   "metadata": {},
   "outputs": [],
   "source": [
    "# possible range for master_app (75K derived from below chart after trying 190K)\n",
    "app_range = range(20000, 75000) "
   ]
  },
  {
   "cell_type": "code",
   "execution_count": 6,
   "metadata": {},
   "outputs": [],
   "source": [
    "# 3 lists to store increase% and increase # selected, and # selected\n",
    "chance_increase, selected_increase, selected = [], [], []\n",
    "# loop thru each possible value for app_master range\n",
    "for x in app_range:\n",
    "    old_chance, old_selected = old_policy(x)\n",
    "    new_chance, new_selected = new_policy(x)\n",
    "#     append the increase to 2 lists\n",
    "    chance_increase.append((new_chance/old_chance -1)*100)\n",
    "    selected_increase.append(new_selected - old_selected)\n",
    "    selected.append(new_selected)"
   ]
  },
  {
   "cell_type": "markdown",
   "metadata": {},
   "source": [
    "### Plot the chart"
   ]
  },
  {
   "cell_type": "code",
   "execution_count": 7,
   "metadata": {},
   "outputs": [
    {
     "data": {
      "image/png": "[encoded data removed]",
      "text/plain": [
       "<Figure size 432x288 with 2 Axes>"
      ]
     },
     "metadata": {
      "needs_background": "light"
     },
     "output_type": "display_data"
    }
   ],
   "source": [
    "fig, ax1 = plt.subplots()\n",
    "\n",
    "color = 'tab:red'\n",
    "ax1.set_xlabel('master_app')\n",
    "ax1.set_ylabel('% increase', color=color)\n",
    "ax1.plot(app_range, chance_increase, color=color)\n",
    "ax1.tick_params(axis='y', labelcolor=color)\n",
    "\n",
    "ax2 = ax1.twinx()  # instantiate a second axes that shares the same x-axis\n",
    "color = 'tab:blue'\n",
    "ax2.set_ylabel('# increase', color=color)\n",
    "ax2.plot(app_range, selected_increase, color=color)\n",
    "ax2.tick_params(axis='y', labelcolor=color)\n",
    "\n",
    "fig.tight_layout() \n",
    "plt.show()"
   ]
  },
  {
   "cell_type": "markdown",
   "metadata": {},
   "source": [
    "### Find value that leads to 16% increase and 5340 selected increase "
   ]
  },
  {
   "cell_type": "code",
   "execution_count": 8,
   "metadata": {},
   "outputs": [],
   "source": [
    "# Just take the range from 50K, meaning starting from index 30K (due to starting point of 20K)\n",
    "valid_chance_increase = chance_increase[30000:]\n",
    "valid_selected_increase = selected_increase[30000:]\n",
    "valid_selected = selected[30000:]"
   ]
  },
  {
   "cell_type": "code",
   "execution_count": 9,
   "metadata": {},
   "outputs": [],
   "source": [
    "# Find the index where the % increase crosses 16%\n",
    "i = 0\n",
    "while valid_chance_increase[i] > 16:\n",
    "    i+=1\n",
    "\n",
    "# # of master apps\n",
    "master_app = 20000 + 30000 + i"
   ]
  },
  {
   "cell_type": "code",
   "execution_count": 10,
   "metadata": {},
   "outputs": [
    {
     "name": "stdout",
     "output_type": "stream",
     "text": [
      "chance_increase is 15.9999%\n",
      "selected_increase is 5396.8\n",
      "# of master applications is 55910\n",
      "# of master selected is 39127.1\n",
      "chance for master applicant is 69.98%\n"
     ]
    }
   ],
   "source": [
    "print('chance_increase is {}%'.format(round(valid_chance_increase[i], 4)))\n",
    "print('selected_increase is {}'.format(round(valid_selected_increase[i], 1)))\n",
    "print('# of master applications is {}'.format(master_app))\n",
    "print('# of master selected is {}'.format(round(valid_selected[i], 1)))\n",
    "print('chance for master applicant is {}%'.format(round(valid_selected[i] / master_app * 100, 2)))"
   ]
  }
 ],
 "metadata": {
  "kernelspec": {
   "display_name": "Python 3",
   "language": "python",
   "name": "python3"
  },
  "language_info": {
   "codemirror_mode": {
    "name": "ipython",
    "version": 3
   },
   "file_extension": ".py",
   "mimetype": "text/x-python",
   "name": "python",
   "nbconvert_exporter": "python",
   "pygments_lexer": "ipython3",
   "version": "3.7.3"
  }
 },
 "nbformat": 4,
 "nbformat_minor": 2
}
